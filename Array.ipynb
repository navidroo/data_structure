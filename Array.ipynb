{
 "cells": [
  {
   "cell_type": "markdown",
   "id": "de90d793-f704-4b71-ad21-111f655efd09",
   "metadata": {},
   "source": [
    "### Array Structure"
   ]
  },
  {
   "cell_type": "markdown",
   "id": "6057a081-3ece-4f25-9118-9f82c49925e1",
   "metadata": {},
   "source": [
    "Based on the topics in the https://www.geeksforgeeks.org/array-data-structure-guide/?ref=outind"
   ]
  },
  {
   "cell_type": "code",
   "execution_count": null,
   "id": "672a02c4-3873-45e1-8780-b6b092c12db4",
   "metadata": {},
   "outputs": [],
   "source": []
  },
  {
   "cell_type": "code",
   "execution_count": null,
   "id": "1175e44c-442b-4a74-bf03-81d22854958f",
   "metadata": {},
   "outputs": [],
   "source": [
    "##### Linear Search Algorithm"
   ]
  },
  {
   "cell_type": "markdown",
   "id": "01ce8a82-97b6-4e0d-bd51-6a34284c61b3",
   "metadata": {},
   "source": [
    "Given an array, arr of n integers, and an integer element x, find whether element x is present in the array. Return the index of the first occurrence of x in the array, or -1 if it doesn’t exist."
   ]
  },
  {
   "cell_type": "code",
   "execution_count": 2,
   "id": "9752bb5e-8d0c-49c5-be6f-5d14c4e56788",
   "metadata": {},
   "outputs": [
    {
     "name": "stdout",
     "output_type": "stream",
     "text": [
      "2\n"
     ]
    }
   ],
   "source": [
    "arr= [1, 2, 3, 3, 4]\n",
    "\n",
    "x = 3\n",
    "    \n",
    "for i in range(len(arr)):\n",
    "    if arr[i]==x:\n",
    "        print(i)\n",
    "        break"
   ]
  },
  {
   "cell_type": "markdown",
   "id": "f7a87b13-76a9-4a5e-b844-dee5b8ae375a",
   "metadata": {},
   "source": [
    "##### Find second largest element in an array\n",
    "\n",
    "Given an array of positive integers arr[] of size n, the task is to find second largest distinct element in the array. Note: If the second largest element does not exist, return -1."
   ]
  },
  {
   "cell_type": "code",
   "execution_count": 15,
   "id": "0e730ba7-8b7f-49ce-bd6b-c7fb458b7eef",
   "metadata": {},
   "outputs": [
    {
     "name": "stdout",
     "output_type": "stream",
     "text": [
      "34\n"
     ]
    }
   ],
   "source": [
    "#### single pass method\n",
    "\n",
    "def find_second_largest(arr):\n",
    "    largest = -1\n",
    "    second_largest = -1\n",
    "    \n",
    "    for i in range(len(arr)):\n",
    "        \n",
    "        if arr[i]>largest:\n",
    "            second_largest = largest\n",
    "            largest = arr[i]\n",
    "            \n",
    "        elif arr[i]<largest and arr[i]>second_largest:\n",
    "            second_largest = arr[i]\n",
    "            \n",
    "    return second_largest\n",
    "\n",
    "arr = [12, 35, 1, 10, 34, 1]\n",
    "print(getSecondLargest(arr))"
   ]
  },
  {
   "cell_type": "markdown",
   "id": "f214ec64-5bfb-4c7c-bec5-964bdea0f5d4",
   "metadata": {},
   "source": [
    "##### Find the largest three distinct elements in an array\n",
    "Given an array, find the largest three elements. We need to find only distinct elements as largest"
   ]
  },
  {
   "cell_type": "code",
   "execution_count": 19,
   "id": "f5781135-9347-4115-9477-03d83ad903e7",
   "metadata": {},
   "outputs": [
    {
     "data": {
      "text/plain": [
       "(34, 13, 12)"
      ]
     },
     "execution_count": 19,
     "metadata": {},
     "output_type": "execute_result"
    }
   ],
   "source": [
    "def find_largest_three(arr):\n",
    "    largest = -1\n",
    "    largest_2 = -1\n",
    "    largest_3 = -1\n",
    "    \n",
    "    for i in range(len(arr)):\n",
    "        x = arr[i]\n",
    "        if x>largest:\n",
    "            largest_3 = largest_2\n",
    "            largest_2 = largest\n",
    "            largest = arr[i]\n",
    "            \n",
    "        elif x<largest and x>largest_2:\n",
    "            largest_3 = largest_2\n",
    "            largest_2 = x\n",
    "        elif x< largest and x<largest_2 and x>largest_3:\n",
    "            largest_3 = x\n",
    "            \n",
    "    return largest, largest_2, largest_3\n",
    "\n",
    "# Driver code\n",
    "arr = [12, 13, 1, 10, 34, 11, 34]\n",
    "find_largest_three(arr)"
   ]
  },
  {
   "cell_type": "markdown",
   "id": "c5199244-a0e8-4279-b30d-6f62ca209a05",
   "metadata": {},
   "source": [
    "##### Leaders in an array\n",
    "Given an array arr[] of size n, the task is to find all the Leaders in the array. An element is a Leader if it is greater than all the elements to its right side.\n",
    "\n",
    "Note: The rightmost element is always a leader."
   ]
  },
  {
   "cell_type": "code",
   "execution_count": 26,
   "id": "b88fe6ba-7c07-4850-a2e0-d1185698ab21",
   "metadata": {},
   "outputs": [
    {
     "data": {
      "text/plain": [
       "[2, 5, 17]"
      ]
     },
     "execution_count": 26,
     "metadata": {},
     "output_type": "execute_result"
    }
   ],
   "source": [
    "def find_leaders(arr):\n",
    "    leader_arr = []\n",
    "    \n",
    "    max_right = arr[-1]\n",
    "    leader_arr.append(max_right)\n",
    "    for i in range(len(arr)-2,-1,-1):\n",
    "        if arr[i]>max_right:\n",
    "            max_right = arr[i]\n",
    "            leader_arr.append(max_right)\n",
    "    return leader_arr\n",
    "            \n",
    "        \n",
    "        \n",
    "arr = [16, 17, 4, 3, 5, 2]\n",
    "find_leaders(arr)"
   ]
  },
  {
   "cell_type": "markdown",
   "id": "9b4fefa4-9f61-4357-8b75-7a00410d9f59",
   "metadata": {},
   "source": [
    "##### Remove duplicates from Sorted Array\n",
    "Given a sorted array arr[] of size N, the task is to remove the duplicate elements from the array. We need keep order of the remaining distinct elements as it was in the original array."
   ]
  },
  {
   "cell_type": "code",
   "execution_count": 35,
   "id": "0e1c3549-2f55-4950-8355-fbc7a8b31d9b",
   "metadata": {},
   "outputs": [
    {
     "data": {
      "text/plain": [
       "[1, 2, 3, 4, 5]"
      ]
     },
     "execution_count": 35,
     "metadata": {},
     "output_type": "execute_result"
    }
   ],
   "source": [
    "def rm_duplicate(arr):\n",
    "    check = arr[0]\n",
    "    keep = [arr[0]]\n",
    "    remove = []\n",
    "    for i in range(1, len(arr)-1):\n",
    "        if arr[i] == check:\n",
    "            remove.append(arr[i])\n",
    "        else:\n",
    "            keep.append(arr[i])\n",
    "            check = arr[i]\n",
    "    return remove, keep\n",
    "\n",
    "arr = [1, 2, 2, 3, 4, 4, 4, 5, 5]\n",
    "newSize, keep = rm_duplicate(arr)\n",
    "keep"
   ]
  },
  {
   "cell_type": "markdown",
   "id": "b240795a-2667-4efb-8c3a-0e2b5194bcf0",
   "metadata": {},
   "source": [
    "##### * Generating All Subarrays \n",
    "Given an array, generate all the possible subarrays of the given array using recursion."
   ]
  },
  {
   "cell_type": "code",
   "execution_count": 7,
   "id": "6bf550fb-52c2-4c24-9dfa-0cc84d7f831f",
   "metadata": {},
   "outputs": [],
   "source": [
    "def gen_subarray(arr, start = 0):\n",
    "    result = []\n",
    "    \n",
    "    if start>=len(arr):\n",
    "        return result\n",
    "    \n",
    "    for i in range(start, len(arr)):\n",
    "        result.append(arr[start: i+1])\n",
    "        \n",
    "    result.extend(gen_subarray(arr, start+1))\n",
    "    \n",
    "    return result"
   ]
  },
  {
   "cell_type": "code",
   "execution_count": 8,
   "id": "acacf805-6c09-4f81-872d-51fdfee30879",
   "metadata": {},
   "outputs": [
    {
     "data": {
      "text/plain": [
       "[[1], [1, 2], [1, 2, 3], [2], [2, 3], [3]]"
      ]
     },
     "execution_count": 8,
     "metadata": {},
     "output_type": "execute_result"
    }
   ],
   "source": [
    "gen_subarray([1, 2, 3])"
   ]
  },
  {
   "cell_type": "markdown",
   "id": "d989549d-7f58-40b8-9bef-8536745b6eee",
   "metadata": {},
   "source": [
    "##### Move all zeros to end of array\n",
    "Given an array of integers arr[], the task is to move all the zeros to the end of the array while maintaining the relative order of all non-zero elements."
   ]
  },
  {
   "cell_type": "code",
   "execution_count": 18,
   "id": "74661a7e-b4dd-4717-a590-bce507364f75",
   "metadata": {},
   "outputs": [
    {
     "data": {
      "text/plain": [
       "[1, 2, 4, 3, 5, 0, 0, 0]"
      ]
     },
     "execution_count": 18,
     "metadata": {},
     "output_type": "execute_result"
    }
   ],
   "source": [
    "def move_zeros(arr):\n",
    "    zeros = []\n",
    "    suffix = []\n",
    "    for i in range(len(arr)):\n",
    "        if arr[i]==0:\n",
    "            zeros.append(0)\n",
    "        else:\n",
    "            suffix.append(arr[i])\n",
    "            \n",
    "    arr = suffix+zeros\n",
    "    return arr\n",
    "\n",
    "arr = [1, 2, 0, 4, 3, 0, 5, 0]\n",
    "move_zeros(arr)"
   ]
  },
  {
   "cell_type": "markdown",
   "id": "c0a01021-3f02-49c9-aae5-a061fb28afc6",
   "metadata": {},
   "source": [
    "#### Minimum increment by k operations to make all equal\n",
    "You are given an array of n-elements, you have to find the number of operations needed to make all elements of array equal. Where a single operation can increment an element by k. If it is not possible to make all elements equal print -1."
   ]
  },
  {
   "cell_type": "code",
   "execution_count": 15,
   "id": "e9cc47f0-9bb4-4a40-8c44-e2e054ae4669",
   "metadata": {
    "tags": []
   },
   "outputs": [
    {
     "data": {
      "text/plain": [
       "0"
      ]
     },
     "execution_count": 15,
     "metadata": {},
     "output_type": "execute_result"
    }
   ],
   "source": [
    "def min_inc(arr, k):\n",
    "    arr.sort()\n",
    "    ll = arr[-1]\n",
    "    arr = arr[:-1]\n",
    "    num = 0\n",
    "    for i in range(len(arr)):\n",
    "        if (ll-arr[i])%k!=0:\n",
    "            return -1\n",
    "        else:\n",
    "            num+=(ll-arr[i])//k\n",
    "    return num\n",
    "            \n",
    "arr = [4, 4, 4, 4]\n",
    "k = 3\n",
    "min_inc(arr, k)"
   ]
  },
  {
   "cell_type": "code",
   "execution_count": null,
   "id": "e26bbc41-1e85-4171-8e89-772dca99727a",
   "metadata": {},
   "outputs": [],
   "source": []
  },
  {
   "cell_type": "code",
   "execution_count": null,
   "id": "646b5e33-2cc9-40fa-8c94-0dbd4f35e6b7",
   "metadata": {},
   "outputs": [],
   "source": []
  },
  {
   "cell_type": "code",
   "execution_count": null,
   "id": "2fc327c1-1852-4320-a5a5-98e7eecd0393",
   "metadata": {},
   "outputs": [],
   "source": []
  },
  {
   "cell_type": "code",
   "execution_count": null,
   "id": "2a67813c-4096-48d6-8096-eab9ed39aeee",
   "metadata": {},
   "outputs": [],
   "source": []
  }
 ],
 "metadata": {
  "kernelspec": {
   "display_name": "Python 3 (ipykernel)",
   "language": "python",
   "name": "python3"
  },
  "language_info": {
   "codemirror_mode": {
    "name": "ipython",
    "version": 3
   },
   "file_extension": ".py",
   "mimetype": "text/x-python",
   "name": "python",
   "nbconvert_exporter": "python",
   "pygments_lexer": "ipython3",
   "version": "3.7.16"
  }
 },
 "nbformat": 4,
 "nbformat_minor": 5
}
