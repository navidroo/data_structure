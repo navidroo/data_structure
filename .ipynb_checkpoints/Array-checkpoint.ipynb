{
 "cells": [
  {
   "cell_type": "markdown",
   "id": "de90d793-f704-4b71-ad21-111f655efd09",
   "metadata": {},
   "source": [
    "##### Linear Search Algorithm"
   ]
  },
  {
   "cell_type": "markdown",
   "id": "01ce8a82-97b6-4e0d-bd51-6a34284c61b3",
   "metadata": {},
   "source": [
    "Given an array, arr of n integers, and an integer element x, find whether element x is present in the array. Return the index of the first occurrence of x in the array, or -1 if it doesn’t exist."
   ]
  },
  {
   "cell_type": "code",
   "execution_count": 2,
   "id": "9752bb5e-8d0c-49c5-be6f-5d14c4e56788",
   "metadata": {},
   "outputs": [
    {
     "name": "stdout",
     "output_type": "stream",
     "text": [
      "2\n"
     ]
    }
   ],
   "source": [
    "arr= [1, 2, 3, 3, 4]\n",
    "\n",
    "x = 3\n",
    "    \n",
    "for i in range(len(arr)):\n",
    "    if arr[i]==x:\n",
    "        print(i)\n",
    "        break"
   ]
  },
  {
   "cell_type": "code",
   "execution_count": null,
   "id": "27fb2c38",
   "metadata": {},
   "outputs": [],
   "source": []
  }
 ],
 "metadata": {
  "kernelspec": {
   "display_name": "Python 3 (ipykernel)",
   "language": "python",
   "name": "python3"
  },
  "language_info": {
   "codemirror_mode": {
    "name": "ipython",
    "version": 3
   },
   "file_extension": ".py",
   "mimetype": "text/x-python",
   "name": "python",
   "nbconvert_exporter": "python",
   "pygments_lexer": "ipython3",
   "version": "3.7.16"
  }
 },
 "nbformat": 4,
 "nbformat_minor": 5
}
