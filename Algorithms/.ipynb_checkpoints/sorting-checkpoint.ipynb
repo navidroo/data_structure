{
 "cells": [
  {
   "cell_type": "markdown",
   "id": "fa14ae94-663e-4224-8d6b-9557e9e55e07",
   "metadata": {},
   "source": [
    "#### Selection Sort"
   ]
  },
  {
   "cell_type": "code",
   "execution_count": 2,
   "id": "25b23e01-80e0-40f8-a6a8-649e4b609138",
   "metadata": {
    "tags": []
   },
   "outputs": [],
   "source": [
    "def selection_sort_inplace(arr):\n",
    "    for i in range(len(arr)):\n",
    "        min_idx = i\n",
    "        for j in range(i + 1, len(arr)):\n",
    "            if arr[j] < arr[min_idx]:\n",
    "                min_idx = j\n",
    "        arr[i], arr[min_idx] = arr[min_idx], arr[i]\n",
    "    return arr"
   ]
  },
  {
   "cell_type": "code",
   "execution_count": 3,
   "id": "c7447661-53b4-4664-819d-0d1315e07fcd",
   "metadata": {
    "tags": []
   },
   "outputs": [
    {
     "data": {
      "text/plain": [
       "[11, 12, 22, 25, 64]"
      ]
     },
     "execution_count": 3,
     "metadata": {},
     "output_type": "execute_result"
    }
   ],
   "source": [
    "arr = [64, 25, 12, 22, 11]\n",
    "selection_sort_inplace(arr)"
   ]
  },
  {
   "cell_type": "markdown",
   "id": "aa1a20b6-e926-488f-8a8a-f799aa1694a1",
   "metadata": {},
   "source": [
    "#### Bubble Sort"
   ]
  },
  {
   "cell_type": "code",
   "execution_count": 6,
   "id": "16907732-f76d-4ceb-8a23-4a077c2ff14e",
   "metadata": {
    "tags": []
   },
   "outputs": [],
   "source": [
    "def bub_sort(arr):\n",
    "    \n",
    "    for i in range(len(arr)):\n",
    "        swapped = False\n",
    "        for j in range(len(arr)-i-1):\n",
    "            if arr[j]>arr[j+1]:\n",
    "                arr[j], arr[j+1] = arr[j+1], arr[j]\n",
    "                swapped = True\n",
    "        if swapped == False:\n",
    "            break\n",
    "    return arr"
   ]
  },
  {
   "cell_type": "code",
   "execution_count": 7,
   "id": "f9d5d6f2-aa90-4462-8268-d52e74c62210",
   "metadata": {
    "tags": []
   },
   "outputs": [
    {
     "data": {
      "text/plain": [
       "[11, 12, 22, 25, 64]"
      ]
     },
     "execution_count": 7,
     "metadata": {},
     "output_type": "execute_result"
    }
   ],
   "source": [
    "bub_sort(arr)"
   ]
  },
  {
   "cell_type": "code",
   "execution_count": null,
   "id": "c8ce9a8f-1f77-45bc-a519-34a8dea1a6a7",
   "metadata": {},
   "outputs": [],
   "source": [
    "       "
   ]
  }
 ],
 "metadata": {
  "kernelspec": {
   "display_name": "Python 3 (ipykernel)",
   "language": "python",
   "name": "python3"
  },
  "language_info": {
   "codemirror_mode": {
    "name": "ipython",
    "version": 3
   },
   "file_extension": ".py",
   "mimetype": "text/x-python",
   "name": "python",
   "nbconvert_exporter": "python",
   "pygments_lexer": "ipython3",
   "version": "3.7.16"
  }
 },
 "nbformat": 4,
 "nbformat_minor": 5
}
