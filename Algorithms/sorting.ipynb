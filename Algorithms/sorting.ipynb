{
 "cells": [
  {
   "cell_type": "markdown",
   "id": "fa14ae94-663e-4224-8d6b-9557e9e55e07",
   "metadata": {},
   "source": [
    "#### Selection Sort"
   ]
  },
  {
   "cell_type": "code",
   "execution_count": 50,
   "id": "25b23e01-80e0-40f8-a6a8-649e4b609138",
   "metadata": {
    "tags": []
   },
   "outputs": [],
   "source": [
    "def selection_sort_inplace(arr):\n",
    "    for i in range(len(arr)):\n",
    "        min_idx = i\n",
    "        for j in range(i + 1, len(arr)):\n",
    "            if arr[j] < arr[min_idx]:\n",
    "                min_idx = j\n",
    "        arr[i], arr[min_idx] = arr[min_idx], arr[i]\n",
    "    return arr"
   ]
  },
  {
   "cell_type": "code",
   "execution_count": 53,
   "id": "c7447661-53b4-4664-819d-0d1315e07fcd",
   "metadata": {
    "tags": []
   },
   "outputs": [
    {
     "data": {
      "text/plain": [
       "[11, 12, 22, 25, 64]"
      ]
     },
     "execution_count": 53,
     "metadata": {},
     "output_type": "execute_result"
    }
   ],
   "source": [
    "arr = [64, 25, 12, 22, 11]\n",
    "selection_sort_inplace(arr)"
   ]
  },
  {
   "cell_type": "code",
   "execution_count": null,
   "id": "ad3a52de-1a66-4ac4-914f-a5eb955f8eb8",
   "metadata": {},
   "outputs": [],
   "source": []
  }
 ],
 "metadata": {
  "kernelspec": {
   "display_name": "Python 3 (ipykernel)",
   "language": "python",
   "name": "python3"
  },
  "language_info": {
   "codemirror_mode": {
    "name": "ipython",
    "version": 3
   },
   "file_extension": ".py",
   "mimetype": "text/x-python",
   "name": "python",
   "nbconvert_exporter": "python",
   "pygments_lexer": "ipython3",
   "version": "3.7.16"
  }
 },
 "nbformat": 4,
 "nbformat_minor": 5
}
